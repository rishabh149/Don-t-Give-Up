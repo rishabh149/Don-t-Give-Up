{
  "nbformat": 4,
  "nbformat_minor": 0,
  "metadata": {
    "colab": {
      "provenance": [],
      "authorship_tag": "ABX9TyPkiIYhbEF3hwzu8vI8QYvx",
      "include_colab_link": true
    },
    "kernelspec": {
      "name": "python3",
      "display_name": "Python 3"
    },
    "language_info": {
      "name": "python"
    }
  },
  "cells": [
    {
      "cell_type": "markdown",
      "metadata": {
        "id": "view-in-github",
        "colab_type": "text"
      },
      "source": [
        "<a href=\"https://colab.research.google.com/github/rishabh149/Don-t-Give-Up/blob/main/multipostbot.ipynb\" target=\"_parent\"><img src=\"https://colab.research.google.com/assets/colab-badge.svg\" alt=\"Open In Colab\"/></a>"
      ]
    },
    {
      "cell_type": "code",
      "execution_count": 1,
      "metadata": {
        "colab": {
          "base_uri": "https://localhost:8080/"
        },
        "id": "Uh_ULm-PmOqj",
        "outputId": "e99f8f66-943d-4f15-906d-098b98d5bb0f"
      },
      "outputs": [
        {
          "output_type": "stream",
          "name": "stdout",
          "text": [
            "Collecting praw\n",
            "  Downloading praw-7.8.1-py3-none-any.whl.metadata (9.4 kB)\n",
            "Collecting prawcore<3,>=2.4 (from praw)\n",
            "  Downloading prawcore-2.4.0-py3-none-any.whl.metadata (5.0 kB)\n",
            "Collecting update_checker>=0.18 (from praw)\n",
            "  Downloading update_checker-0.18.0-py3-none-any.whl.metadata (2.3 kB)\n",
            "Requirement already satisfied: websocket-client>=0.54.0 in /usr/local/lib/python3.12/dist-packages (from praw) (1.9.0)\n",
            "Requirement already satisfied: requests<3.0,>=2.6.0 in /usr/local/lib/python3.12/dist-packages (from prawcore<3,>=2.4->praw) (2.32.4)\n",
            "Requirement already satisfied: charset_normalizer<4,>=2 in /usr/local/lib/python3.12/dist-packages (from requests<3.0,>=2.6.0->prawcore<3,>=2.4->praw) (3.4.4)\n",
            "Requirement already satisfied: idna<4,>=2.5 in /usr/local/lib/python3.12/dist-packages (from requests<3.0,>=2.6.0->prawcore<3,>=2.4->praw) (3.11)\n",
            "Requirement already satisfied: urllib3<3,>=1.21.1 in /usr/local/lib/python3.12/dist-packages (from requests<3.0,>=2.6.0->prawcore<3,>=2.4->praw) (2.5.0)\n",
            "Requirement already satisfied: certifi>=2017.4.17 in /usr/local/lib/python3.12/dist-packages (from requests<3.0,>=2.6.0->prawcore<3,>=2.4->praw) (2025.10.5)\n",
            "Downloading praw-7.8.1-py3-none-any.whl (189 kB)\n",
            "\u001b[2K   \u001b[90m━━━━━━━━━━━━━━━━━━━━━━━━━━━━━━━━━━━━━━━━\u001b[0m \u001b[32m189.3/189.3 kB\u001b[0m \u001b[31m4.3 MB/s\u001b[0m eta \u001b[36m0:00:00\u001b[0m\n",
            "\u001b[?25hDownloading prawcore-2.4.0-py3-none-any.whl (17 kB)\n",
            "Downloading update_checker-0.18.0-py3-none-any.whl (7.0 kB)\n",
            "Installing collected packages: update_checker, prawcore, praw\n",
            "Successfully installed praw-7.8.1 prawcore-2.4.0 update_checker-0.18.0\n"
          ]
        }
      ],
      "source": [
        "!pip install praw\n",
        "import praw\n"
      ]
    },
    {
      "cell_type": "code",
      "source": [
        "import os\n",
        "import praw\n",
        "\n",
        "# uploaded = files.upload()\n",
        "\n",
        "# Initialize Reddit instance (fill in your credentials here)\n",
        "reddit = praw.Reddit(\n",
        "    client_id=\"wUjhr5WboLUNWcyIwBF5sw\",\n",
        "    client_secret=\"RVpM0nSgNEI9WdNKL3mnNMJylYbVlA\",\n",
        "    user_agent=\"mypostbot by u/Remember_Yourself\",\n",
        "    username=\"Remember_Yourself\",\n",
        "    password=\"gk1501054\"\n",
        ")\n",
        "\n",
        "def post_to_subreddits(title, text, subreddits, image_paths=None, video_path=None, audio_link=None, external_link=None):\n",
        "    \"\"\"\n",
        "    Post to multiple subreddits with mixed media support.\n",
        "\n",
        "    Parameters:\n",
        "    - title: Post title\n",
        "    - text: Text content of the post\n",
        "    - subreddits: list of subreddit names (strings)\n",
        "    - image_paths: list of image file paths (optional)\n",
        "    - video_path: path to video file (optional)\n",
        "    - audio_link: URL string for audio (optional)\n",
        "    - external_link: URL string for external link post (optional)\n",
        "\n",
        "    Rules:\n",
        "    - If video_path provided, post video\n",
        "    - Else if multiple images, post gallery\n",
        "    - Else if single image, post image\n",
        "    - Else if external_link provided, post link post\n",
        "    - Else post text post with audio & external links embedded in body\n",
        "    \"\"\"\n",
        "\n",
        "    for sub in subreddits:\n",
        "        try:\n",
        "            subreddit = reddit.subreddit(sub)\n",
        "            print(f\"\\nPosting to r/{sub}...\")\n",
        "\n",
        "            if video_path and os.path.exists(video_path):\n",
        "                subreddit.submit_video(title, video_path=video_path, description=text)\n",
        "                print(f\"✅ Video post submitted to r/{sub}\")\n",
        "\n",
        "            elif image_paths and len(image_paths) > 1:\n",
        "                # Prepare images for gallery post\n",
        "                images = []\n",
        "                missing_files = False\n",
        "                for img_path in image_paths:\n",
        "                    if os.path.exists(img_path):\n",
        "                        images.append({'image_path': img_path})\n",
        "                    else:\n",
        "                        print(f\"❌ Image file not found: {img_path}\")\n",
        "                        missing_files = True\n",
        "                if missing_files:\n",
        "                    print(f\"⚠️ Some images missing, skipping gallery post to r/{sub}\")\n",
        "                    continue\n",
        "\n",
        "                subreddit.submit_gallery(title, images=images)\n",
        "                print(f\"✅ Gallery post submitted to r/{sub}\")\n",
        "\n",
        "            elif image_paths and len(image_paths) == 1:\n",
        "                img_path = image_paths[0]\n",
        "                if os.path.exists(img_path):\n",
        "                    subreddit.submit_image(title, image_path=img_path)\n",
        "                    print(f\"✅ Image post submitted to r/{sub}\")\n",
        "                else:\n",
        "                    print(f\"❌ Image file not found: {img_path}\")\n",
        "                    continue\n",
        "\n",
        "            elif external_link:\n",
        "                subreddit.submit(title, url=external_link)\n",
        "                print(f\"✅ Link post submitted to r/{sub}\")\n",
        "\n",
        "            else:\n",
        "                # Compose body text with audio and external links if provided\n",
        "                body = text or \"\"\n",
        "                if audio_link:\n",
        "                    body += f\"\\n\\n🎵 [Audio here]({audio_link})\"\n",
        "                if external_link:\n",
        "                    body += f\"\\n\\n🔗 [External Link]({external_link})\"\n",
        "\n",
        "                subreddit.submit(title, selftext=body)\n",
        "                print(f\"✅ Text post submitted to r/{sub}\")\n",
        "\n",
        "        except Exception as e:\n",
        "            print(f\"❌ Error posting to r/{sub}: {e}\")\n",
        "\n",
        "# Example usage:\n",
        "if __name__ == \"__main__\":\n",
        "    title = \"Check out my cool post!\"\n",
        "    text = \"Here is some interesting text content about this post.\"\n",
        "    subreddits = [\"YOGVASHISHT\", \"yoursubreddit\"]  # Replace with your subreddit list\n",
        "    # image_paths = [\"./image1.jpg\", \"./image2.jpg\"]  # Add paths to your images or leave empty\n",
        "    # video_path = None  # Or \"./video.mp4\"\n",
        "    # audio_link = \"https://soundcloud.com/your-audio\"  # Or None if no audio\n",
        "    # external_link = \"https://example.com\"  # Or None if no link\n",
        "    image_paths = [\"/content/test.jpg\"]\n",
        "    video_path = None\n",
        "    audio_link = None\n",
        "    external_link = None\n",
        "    post_to_subreddits(title, text, subreddits, image_paths, video_path, audio_link, external_link)\n"
      ],
      "metadata": {
        "colab": {
          "base_uri": "https://localhost:8080/"
        },
        "id": "mN0_atwAoejV",
        "outputId": "b0fa53d7-c03e-45af-8138-b32885949266"
      },
      "execution_count": 9,
      "outputs": [
        {
          "output_type": "stream",
          "name": "stderr",
          "text": [
            "WARNING:praw:It appears that you are using PRAW in an asynchronous environment.\n",
            "It is strongly recommended to use Async PRAW: https://asyncpraw.readthedocs.io.\n",
            "See https://praw.readthedocs.io/en/latest/getting_started/multiple_instances.html#discord-bots-and-asynchronous-environments for more info.\n",
            "\n"
          ]
        },
        {
          "output_type": "stream",
          "name": "stdout",
          "text": [
            "\n",
            "Posting to r/YOGVASHISHT...\n"
          ]
        },
        {
          "output_type": "stream",
          "name": "stderr",
          "text": [
            "WARNING:praw:It appears that you are using PRAW in an asynchronous environment.\n",
            "It is strongly recommended to use Async PRAW: https://asyncpraw.readthedocs.io.\n",
            "See https://praw.readthedocs.io/en/latest/getting_started/multiple_instances.html#discord-bots-and-asynchronous-environments for more info.\n",
            "\n",
            "WARNING:praw:It appears that you are using PRAW in an asynchronous environment.\n",
            "It is strongly recommended to use Async PRAW: https://asyncpraw.readthedocs.io.\n",
            "See https://praw.readthedocs.io/en/latest/getting_started/multiple_instances.html#discord-bots-and-asynchronous-environments for more info.\n",
            "\n"
          ]
        },
        {
          "output_type": "stream",
          "name": "stdout",
          "text": [
            "✅ Image post submitted to r/YOGVASHISHT\n",
            "\n",
            "Posting to r/yoursubreddit...\n"
          ]
        },
        {
          "output_type": "stream",
          "name": "stderr",
          "text": [
            "WARNING:praw:It appears that you are using PRAW in an asynchronous environment.\n",
            "It is strongly recommended to use Async PRAW: https://asyncpraw.readthedocs.io.\n",
            "See https://praw.readthedocs.io/en/latest/getting_started/multiple_instances.html#discord-bots-and-asynchronous-environments for more info.\n",
            "\n"
          ]
        },
        {
          "output_type": "stream",
          "name": "stdout",
          "text": [
            "❌ Error posting to r/yoursubreddit: SUBREDDIT_NOTALLOWED: 'This community only allows trusted members to post here' on field 'sr'\n"
          ]
        }
      ]
    },
    {
      "cell_type": "code",
      "source": [],
      "metadata": {
        "id": "o9mPpJX8o7mJ"
      },
      "execution_count": null,
      "outputs": []
    }
  ]
}